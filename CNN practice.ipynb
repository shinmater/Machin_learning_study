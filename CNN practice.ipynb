{
 "cells": [
  {
   "cell_type": "markdown",
   "id": "eb0f97b4",
   "metadata": {},
   "source": [
    "## Libraries"
   ]
  },
  {
   "cell_type": "code",
   "execution_count": 24,
   "id": "32dc7d84",
   "metadata": {},
   "outputs": [],
   "source": [
    "%matplotlib inline"
   ]
  },
  {
   "cell_type": "code",
   "execution_count": 1,
   "id": "301f2bad",
   "metadata": {},
   "outputs": [],
   "source": [
    "import torch\n",
    "import os\n",
    "import torchvision\n",
    "import tarfile"
   ]
  },
  {
   "cell_type": "code",
   "execution_count": 7,
   "id": "0ab6f81a",
   "metadata": {},
   "outputs": [],
   "source": [
    "from torchvision import transforms\n",
    "from torch.utils.data import random_split\n",
    "from torch.utils.data.dataloader import DataLoader"
   ]
  },
  {
   "cell_type": "code",
   "execution_count": 8,
   "id": "ca17fe27",
   "metadata": {},
   "outputs": [],
   "source": [
    "import torch.nn as nn"
   ]
  },
  {
   "cell_type": "code",
   "execution_count": 9,
   "id": "d704dbda",
   "metadata": {},
   "outputs": [],
   "source": [
    "from torch.nn import functional as F"
   ]
  },
  {
   "cell_type": "code",
   "execution_count": 10,
   "id": "40724b7b",
   "metadata": {},
   "outputs": [],
   "source": [
    "from itertools import chain"
   ]
  },
  {
   "cell_type": "markdown",
   "id": "aaf8b522",
   "metadata": {},
   "source": [
    "## Download the train and test Dataset"
   ]
  },
  {
   "cell_type": "code",
   "execution_count": 13,
   "id": "af7d5f03",
   "metadata": {
    "scrolled": true
   },
   "outputs": [
    {
     "name": "stdout",
     "output_type": "stream",
     "text": [
      "Downloading http://fashion-mnist.s3-website.eu-central-1.amazonaws.com/train-images-idx3-ubyte.gz\n",
      "Downloading http://fashion-mnist.s3-website.eu-central-1.amazonaws.com/train-images-idx3-ubyte.gz to ./data\\FashionMNIST\\raw\\train-images-idx3-ubyte.gz\n"
     ]
    },
    {
     "data": {
      "application/json": {
       "ascii": false,
       "bar_format": null,
       "colour": null,
       "elapsed": 0.011977195739746094,
       "initial": 0,
       "n": 0,
       "ncols": null,
       "nrows": 29,
       "postfix": null,
       "prefix": "",
       "rate": null,
       "total": 26421880,
       "unit": "it",
       "unit_divisor": 1000,
       "unit_scale": false
      },
      "application/vnd.jupyter.widget-view+json": {
       "model_id": "1263a32f98bb40309c5e4a5df19dbc85",
       "version_major": 2,
       "version_minor": 0
      },
      "text/plain": [
       "  0%|          | 0/26421880 [00:00<?, ?it/s]"
      ]
     },
     "metadata": {},
     "output_type": "display_data"
    },
    {
     "name": "stdout",
     "output_type": "stream",
     "text": [
      "Extracting ./data\\FashionMNIST\\raw\\train-images-idx3-ubyte.gz to ./data\\FashionMNIST\\raw\n",
      "\n",
      "Downloading http://fashion-mnist.s3-website.eu-central-1.amazonaws.com/train-labels-idx1-ubyte.gz\n",
      "Downloading http://fashion-mnist.s3-website.eu-central-1.amazonaws.com/train-labels-idx1-ubyte.gz to ./data\\FashionMNIST\\raw\\train-labels-idx1-ubyte.gz\n"
     ]
    },
    {
     "data": {
      "application/json": {
       "ascii": false,
       "bar_format": null,
       "colour": null,
       "elapsed": 0.012000083923339844,
       "initial": 0,
       "n": 0,
       "ncols": null,
       "nrows": 29,
       "postfix": null,
       "prefix": "",
       "rate": null,
       "total": 29515,
       "unit": "it",
       "unit_divisor": 1000,
       "unit_scale": false
      },
      "application/vnd.jupyter.widget-view+json": {
       "model_id": "a89888fc472b4048a8bf89edf7252e43",
       "version_major": 2,
       "version_minor": 0
      },
      "text/plain": [
       "  0%|          | 0/29515 [00:00<?, ?it/s]"
      ]
     },
     "metadata": {},
     "output_type": "display_data"
    },
    {
     "name": "stdout",
     "output_type": "stream",
     "text": [
      "Extracting ./data\\FashionMNIST\\raw\\train-labels-idx1-ubyte.gz to ./data\\FashionMNIST\\raw\n",
      "\n",
      "Downloading http://fashion-mnist.s3-website.eu-central-1.amazonaws.com/t10k-images-idx3-ubyte.gz\n",
      "Downloading http://fashion-mnist.s3-website.eu-central-1.amazonaws.com/t10k-images-idx3-ubyte.gz to ./data\\FashionMNIST\\raw\\t10k-images-idx3-ubyte.gz\n"
     ]
    },
    {
     "data": {
      "application/json": {
       "ascii": false,
       "bar_format": null,
       "colour": null,
       "elapsed": 0.012000799179077148,
       "initial": 0,
       "n": 0,
       "ncols": null,
       "nrows": 29,
       "postfix": null,
       "prefix": "",
       "rate": null,
       "total": 4422102,
       "unit": "it",
       "unit_divisor": 1000,
       "unit_scale": false
      },
      "application/vnd.jupyter.widget-view+json": {
       "model_id": "9e0ab6aa9b51444eb859e9aec754bc36",
       "version_major": 2,
       "version_minor": 0
      },
      "text/plain": [
       "  0%|          | 0/4422102 [00:00<?, ?it/s]"
      ]
     },
     "metadata": {},
     "output_type": "display_data"
    },
    {
     "name": "stdout",
     "output_type": "stream",
     "text": [
      "Extracting ./data\\FashionMNIST\\raw\\t10k-images-idx3-ubyte.gz to ./data\\FashionMNIST\\raw\n",
      "\n",
      "Downloading http://fashion-mnist.s3-website.eu-central-1.amazonaws.com/t10k-labels-idx1-ubyte.gz\n",
      "Downloading http://fashion-mnist.s3-website.eu-central-1.amazonaws.com/t10k-labels-idx1-ubyte.gz to ./data\\FashionMNIST\\raw\\t10k-labels-idx1-ubyte.gz\n"
     ]
    },
    {
     "data": {
      "application/json": {
       "ascii": false,
       "bar_format": null,
       "colour": null,
       "elapsed": 0.01199960708618164,
       "initial": 0,
       "n": 0,
       "ncols": null,
       "nrows": 29,
       "postfix": null,
       "prefix": "",
       "rate": null,
       "total": 5148,
       "unit": "it",
       "unit_divisor": 1000,
       "unit_scale": false
      },
      "application/vnd.jupyter.widget-view+json": {
       "model_id": "1bb8890b5ea24aaf8b74edd9b06d954f",
       "version_major": 2,
       "version_minor": 0
      },
      "text/plain": [
       "  0%|          | 0/5148 [00:00<?, ?it/s]"
      ]
     },
     "metadata": {},
     "output_type": "display_data"
    },
    {
     "name": "stdout",
     "output_type": "stream",
     "text": [
      "Extracting ./data\\FashionMNIST\\raw\\t10k-labels-idx1-ubyte.gz to ./data\\FashionMNIST\\raw\n",
      "\n"
     ]
    }
   ],
   "source": [
    "train_set = torchvision.datasets.FashionMNIST(\"/usr\", download=True, transform = transforms.Compose ([transforms.ToTensor()]))\n",
    "test_set = torchvision.datasets.FashionMNIST(\"./data\", download=True, transform = transforms.Compose ([transforms.ToTensor()]))"
   ]
  },
  {
   "cell_type": "markdown",
   "id": "77ca3ae2",
   "metadata": {},
   "source": [
    "## Split the training set to train and validation"
   ]
  },
  {
   "cell_type": "code",
   "execution_count": 16,
   "id": "1de074cc",
   "metadata": {},
   "outputs": [],
   "source": [
    "train_size = 48000\n",
    "val_size = 60000 - train_size\n",
    "train_ds, val_ds = random_split(train_set,[train_size,val_size])\n"
   ]
  },
  {
   "cell_type": "code",
   "execution_count": 19,
   "id": "de232c57",
   "metadata": {},
   "outputs": [],
   "source": [
    "train_dl = DataLoader(train_ds,batch_size=20,\n",
    "                     shuffle=True)\n",
    "val_dl = DataLoader(val_ds, batch_size=20,\n",
    "                   shuffle=True)\n",
    "classes = train_set.classes"
   ]
  },
  {
   "cell_type": "code",
   "execution_count": 74,
   "id": "2e21c75d",
   "metadata": {},
   "outputs": [],
   "source": [
    "## test dl\n",
    "test_dl = DataLoader(test_set,batch_size=20, shuffle=True)"
   ]
  },
  {
   "cell_type": "code",
   "execution_count": 22,
   "id": "cbc6c405",
   "metadata": {},
   "outputs": [],
   "source": [
    "import numpy as np\n",
    "import matplotlib.pyplot as plt"
   ]
  },
  {
   "cell_type": "code",
   "execution_count": 42,
   "id": "df8e7bdf",
   "metadata": {},
   "outputs": [
    {
     "data": {
      "image/png": "[encoded data removed]",
      "text/plain": [
       "<Figure size 432x288 with 1 Axes>"
      ]
     },
     "metadata": {
      "needs_background": "light"
     },
     "output_type": "display_data"
    }
   ],
   "source": [
    "for imgs,labels in train_dl:\n",
    "    for img in imgs:\n",
    "        arr_ = np.squeeze(img)\n",
    "        # plt has imshow to visualize an image\n",
    "        plt.imshow(arr_)\n",
    "        plt.show()\n",
    "        break\n",
    "    break"
   ]
  },
  {
   "cell_type": "code",
   "execution_count": 44,
   "id": "c55750af",
   "metadata": {
    "scrolled": false
   },
   "outputs": [
    {
     "data": {
      "image/png": "[encoded data removed]",
      "text/plain": [
       "<Figure size 432x288 with 1 Axes>"
      ]
     },
     "metadata": {
      "needs_background": "light"
     },
     "output_type": "display_data"
    }
   ],
   "source": [
    "plt.imshow(arr_)\n",
    "plt.show()"
   ]
  },
  {
   "cell_type": "code",
   "execution_count": 48,
   "id": "fcc47673",
   "metadata": {},
   "outputs": [
    {
     "data": {
      "text/plain": [
       "torch.Size([28, 28])"
      ]
     },
     "execution_count": 48,
     "metadata": {},
     "output_type": "execute_result"
    }
   ],
   "source": [
    "np.shape(arr_)"
   ]
  },
  {
   "cell_type": "markdown",
   "id": "96f54b98",
   "metadata": {},
   "source": [
    "## Defining the architecture"
   ]
  },
  {
   "cell_type": "code",
   "execution_count": 45,
   "id": "081d1c07",
   "metadata": {},
   "outputs": [],
   "source": [
    "import torch.nn as nn"
   ]
  },
  {
   "cell_type": "code",
   "execution_count": 51,
   "id": "537ef082",
   "metadata": {},
   "outputs": [],
   "source": [
    "class Net(nn.Module):\n",
    "    def __init__(self):\n",
    "        super(Net,self).__init__()\n",
    "        #convolutional layer-1\n",
    "        # torch.nn.Conv2d(in_channels, out_channels, kernel_size, stride=1, padding=0, dilation=1, groups=1, bias=True, \n",
    "        #                 padding_mode='zeros', device=None, dtype=None)\n",
    "        self.conv1 = nn.Conv2d(1,6,5, padding =0)\n",
    "        #convolutional layer-2\n",
    "        self.conv2 = nn.Conv2d(6,10,5, padding =0)\n",
    "        # max pooling layer\n",
    "        self.pool = nn.MaxPool2d(2,2)\n",
    "        # Fully connected layer 1\n",
    "        self.ff1 = nn.Linear(4*4*10,56)\n",
    "        # Fully connected layer 2\n",
    "        self.ff2 = nn.Linear(56,10)\n",
    "    def forward(self, x):\n",
    "        # adding sequence of convolutional and max pooling layers\n",
    "        #input dim-28*28*1\n",
    "        x = self.conv1(x)\n",
    "        # After convolutional operation, output dim - 24*24*6\n",
    "        x = self.pool(x)\n",
    "        # After Max pool operation output dim - 12*12*6\n",
    "        x = self.conv2(x)\n",
    "        # After convolution operation output dim - 8*8*10\n",
    "        x = self.pool(x)\n",
    "        # max pool output dim 4*4*10\n",
    "        x = x.view(-1,4*4*10) # Reshaping the values to a shape appropriate to the input of fully connected layer\n",
    "        x = F.relu(self.ff1(x)) # Applying Relu to the output of first layer\n",
    "        x = F.sigmoid(self.ff2(x)) # Applying sigmoid to the output of second lyaer\n",
    "        return x"
   ]
  },
  {
   "cell_type": "code",
   "execution_count": 53,
   "id": "76cb503e",
   "metadata": {},
   "outputs": [
    {
     "name": "stdout",
     "output_type": "stream",
     "text": [
      "Net(\n",
      "  (conv1): Conv2d(1, 6, kernel_size=(5, 5), stride=(1, 1))\n",
      "  (conv2): Conv2d(6, 10, kernel_size=(5, 5), stride=(1, 1))\n",
      "  (pool): MaxPool2d(kernel_size=2, stride=2, padding=0, dilation=1, ceil_mode=False)\n",
      "  (ff1): Linear(in_features=160, out_features=56, bias=True)\n",
      "  (ff2): Linear(in_features=56, out_features=10, bias=True)\n",
      ")\n"
     ]
    }
   ],
   "source": [
    "# create a complete CNN\n",
    "model_scratch = Net()\n",
    "print(model_scratch)"
   ]
  },
  {
   "cell_type": "code",
   "execution_count": 55,
   "id": "0ec27449",
   "metadata": {},
   "outputs": [],
   "source": [
    "# move tensors to GPU if CUDA if available\n",
    "use_cuda = False\n",
    "if use_cuda:\n",
    "    model_scratch.cuda()"
   ]
  },
  {
   "cell_type": "markdown",
   "id": "404e68f5",
   "metadata": {},
   "source": [
    "## Define the loss function"
   ]
  },
  {
   "cell_type": "code",
   "execution_count": 56,
   "id": "170ef51f",
   "metadata": {},
   "outputs": [],
   "source": [
    "# Loss function\n",
    "import torch.optim as optim\n",
    "criterion_scratch = nn.CrossEntropyLoss()\n",
    "def get_optimizer_scratch(model):\n",
    "    # lr : learning rate\n",
    "    optimizer = optim.SGD(model.parameters(),lr=0.04)\n",
    "    return optimizer"
   ]
  },
  {
   "cell_type": "markdown",
   "id": "de802a2b",
   "metadata": {},
   "source": [
    "## Implementing the training and validation algorithm"
   ]
  },
  {
   "cell_type": "code",
   "execution_count": 65,
   "id": "305261e3",
   "metadata": {},
   "outputs": [],
   "source": [
    "# Implementing the training algorithm\n",
    "def train(n_epochs, loaders, model, optimizer, criterion, use_cuda, save_path):\n",
    "    \"\"\" returns trained model \"\"\"\n",
    "    # initialize tracker for minimum validation losss\n",
    "    valid_loss_min = np.Inf\n",
    "    for epoch in range(1, n_epochs+1):\n",
    "        # initialize variables to monitor training and validation loss\n",
    "        train_loss = 0.0\n",
    "        valid_loss = 0.0\n",
    "        # train phase #\n",
    "        # setting the module to training mode\n",
    "        model.train()\n",
    "        for batch_idx, (data,target) in enumerate(loaders['train']):\n",
    "            # move to GPU\n",
    "            if use_cuda:\n",
    "                data,target = data.cuda(), target.cuda()\n",
    "            optimizer.zero_grad()\n",
    "            output = model(data)\n",
    "            loss = criterion(output,target)\n",
    "            loss.backward()\n",
    "            optimizer.step()\n",
    "            train_loss = train_loss + ((1/(batch_idx+1))*(loss.data.item()-train_loss))\n",
    "            \n",
    "        # validate the model #\n",
    "        # set the model to evaluation mode\n",
    "        model.eval()\n",
    "        for batch_idx, (data,target) in enumerate(loaders['valid']):\n",
    "            # move to GPU\n",
    "            if use_cuda:\n",
    "                data,target = data.cuda(), target.cuda()\n",
    "            output = model(data)\n",
    "            loss = criterion(output,target)\n",
    "            valid_loss = valid_loss + ((1/(batch_idx+1))*(loss.data.item()-train_loss))\n",
    "        \n",
    "    # print training/validation statistics\n",
    "        print('Epoch:{} tTraining Loss: {:.6f} tValidation Loss: {:.6f}'.format(\n",
    "        epoch,\n",
    "        train_loss,\n",
    "        valid_loss        \n",
    "        ))\n",
    "    ## If the validation loss has decreased, then saving the model\n",
    "        if valid_loss <= valid_loss_min:\n",
    "            print('Validation loss decreased ({:.6f} --> {:.6f}). Saving model ...'.format(\n",
    "            valid_loss_min,\n",
    "            valid_loss))\n",
    "            torch.save(model.state_dict(), save_path)\n",
    "            valid_loss_min = valid_loss\n",
    "    return model"
   ]
  },
  {
   "cell_type": "markdown",
   "id": "cc93e0c3",
   "metadata": {},
   "source": [
    "## Training and evaluation phase"
   ]
  },
  {
   "cell_type": "code",
   "execution_count": 77,
   "id": "df7f6621",
   "metadata": {},
   "outputs": [],
   "source": [
    "num_epochs = 15\n",
    "loaders_scratch={'train':train_dl, 'valid':val_dl,'test':test_dl}"
   ]
  },
  {
   "cell_type": "code",
   "execution_count": 71,
   "id": "0d8692a0",
   "metadata": {},
   "outputs": [
    {
     "name": "stdout",
     "output_type": "stream",
     "text": [
      "Epoch:1 tTraining Loss: 1.622885 tValidation Loss: 0.022481\n",
      "Validation loss decreased (inf --> 0.022481). Saving model ...\n",
      "Epoch:2 tTraining Loss: 1.611872 tValidation Loss: -0.144973\n",
      "Validation loss decreased (0.022481 --> -0.144973). Saving model ...\n",
      "Epoch:3 tTraining Loss: 1.602282 tValidation Loss: -0.038702\n",
      "Epoch:4 tTraining Loss: 1.597876 tValidation Loss: 0.024819\n",
      "Epoch:5 tTraining Loss: 1.593977 tValidation Loss: 0.023242\n",
      "Epoch:6 tTraining Loss: 1.591241 tValidation Loss: -0.006300\n",
      "Epoch:7 tTraining Loss: 1.588254 tValidation Loss: -0.044724\n",
      "Epoch:8 tTraining Loss: 1.585891 tValidation Loss: 0.097368\n",
      "Epoch:9 tTraining Loss: 1.583816 tValidation Loss: 0.019571\n",
      "Epoch:10 tTraining Loss: 1.581387 tValidation Loss: 0.048001\n",
      "Epoch:11 tTraining Loss: 1.579709 tValidation Loss: 0.047539\n",
      "Epoch:12 tTraining Loss: 1.577670 tValidation Loss: 0.024843\n",
      "Epoch:13 tTraining Loss: 1.576494 tValidation Loss: 0.063003\n",
      "Epoch:14 tTraining Loss: 1.573826 tValidation Loss: 0.024136\n",
      "Epoch:15 tTraining Loss: 1.571696 tValidation Loss: 0.025879\n"
     ]
    }
   ],
   "source": [
    "\n",
    "model_scratch = train(num_epochs, loaders_scratch, model_scratch, get_optimizer_scratch(model_scratch),\n",
    "                     criterion_scratch,use_cuda,'model_scratch.pt')"
   ]
  },
  {
   "cell_type": "markdown",
   "id": "41dc88ad",
   "metadata": {},
   "source": [
    "## Testing Phase"
   ]
  },
  {
   "cell_type": "code",
   "execution_count": 78,
   "id": "ae221795",
   "metadata": {},
   "outputs": [
    {
     "name": "stdout",
     "output_type": "stream",
     "text": [
      "Test Loss: 1.603347n\n",
      "nTest Accuracy: 72% (43682/60000)\n"
     ]
    }
   ],
   "source": [
    "def test(loaders, model, criterion, use_cuda):\n",
    "    \n",
    "    #monitor test loss and accuracy\n",
    "    test_loss = 0.\n",
    "    correct = 0.\n",
    "    total = 0.\n",
    "    \n",
    "    # set the module to evaluation mode\n",
    "    model.eval()\n",
    "    for batch_idx, (data, target) in enumerate(loaders['test']):\n",
    "        # move to GPU\n",
    "        if use_cuda:\n",
    "            data, target = data.cuda(), target.cuda()\n",
    "        # forward pass: compute predicted outputs by passing inputs to the model\n",
    "        output = model(data)\n",
    "        # calculate the loss\n",
    "        loss = criterion(output, target)\n",
    "        # update average test loss\n",
    "        test_loss = test_loss + ((1/(batch_idx + 1)) * (loss.data.item() - test_loss))\n",
    "        # convert output probabilities to predicted class\n",
    "        pred = output.data.max(1,keepdim=True)[1]\n",
    "        #compare predicitons to true label\n",
    "        correct += np.sum(np.squeeze(pred.eq(target.data.view_as(pred)), axis =1).cpu().numpy())\n",
    "        total +=data.size(0)\n",
    "    print('Test Loss: {:.6f}n'.format(test_loss))\n",
    "    print('nTest Accuracy: %2d%% (%2d/%2d)' %(\n",
    "        100. * correct / total, correct, total))\n",
    "# load the model that got the best validation accuracy\n",
    "model_scratch.load_state_dict(torch.load('model_scratch.pt'))\n",
    "test(loaders_scratch, model_scratch, criterion_scratch, use_cuda)\n"
   ]
  },
  {
   "cell_type": "markdown",
   "id": "da5724f8",
   "metadata": {},
   "source": [
    "## Testing with a sample"
   ]
  },
  {
   "cell_type": "code",
   "execution_count": 79,
   "id": "2fa5fe29",
   "metadata": {},
   "outputs": [],
   "source": [
    "def predict_image(img,model):\n",
    "    # Convert to a batch of 1\n",
    "    xb = img.unsqueeze(0)\n",
    "    # Get predictions from model\n",
    "    yb = model(xb)\n",
    "    # Pick index with highest probability\n",
    "    _, preds = torch.max(yb, dim=1)\n",
    "    # printing the image\n",
    "    plt.imshow(img.squeeze())\n",
    "    # returning the class label related to the image\n",
    "    return train_set.classes[preds[0].item()]"
   ]
  },
  {
   "cell_type": "code",
   "execution_count": 91,
   "id": "5fde968c",
   "metadata": {},
   "outputs": [
    {
     "data": {
      "text/plain": [
       "'T-shirt/top'"
      ]
     },
     "execution_count": 91,
     "metadata": {},
     "output_type": "execute_result"
    },
    {
     "data": {
      "image/png": "[encoded data removed]",
      "text/plain": [
       "<Figure size 432x288 with 1 Axes>"
      ]
     },
     "metadata": {
      "needs_background": "light"
     },
     "output_type": "display_data"
    }
   ],
   "source": [
    "img,label = test_set[3]\n",
    "predict_image(img,model_scratch)"
   ]
  },
  {
   "cell_type": "code",
   "execution_count": 87,
   "id": "56c4f504",
   "metadata": {},
   "outputs": [
    {
     "ename": "AttributeError",
     "evalue": "'FashionMNIST' object has no attribute 'item'",
     "output_type": "error",
     "traceback": [
      "\u001b[1;31m---------------------------------------------------------------------------\u001b[0m",
      "\u001b[1;31mAttributeError\u001b[0m                            Traceback (most recent call last)",
      "Input \u001b[1;32mIn [87]\u001b[0m, in \u001b[0;36m<cell line: 1>\u001b[1;34m()\u001b[0m\n\u001b[1;32m----> 1\u001b[0m \u001b[43mtest_set\u001b[49m\u001b[38;5;241;43m.\u001b[39;49m\u001b[43mitem\u001b[49m()\n",
      "\u001b[1;31mAttributeError\u001b[0m: 'FashionMNIST' object has no attribute 'item'"
     ]
    }
   ],
   "source": [
    "test_set.item()"
   ]
  },
  {
   "cell_type": "code",
   "execution_count": null,
   "id": "b95b9566",
   "metadata": {},
   "outputs": [],
   "source": []
  }
 ],
 "metadata": {
  "kernelspec": {
   "display_name": "MLstudy",
   "language": "python",
   "name": "mlstudy"
  },
  "language_info": {
   "codemirror_mode": {
    "name": "ipython",
    "version": 3
   },
   "file_extension": ".py",
   "mimetype": "text/x-python",
   "name": "python",
   "nbconvert_exporter": "python",
   "pygments_lexer": "ipython3",
   "version": "3.9.12"
  }
 },
 "nbformat": 4,
 "nbformat_minor": 5
}
